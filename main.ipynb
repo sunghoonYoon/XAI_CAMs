{
 "cells": [
  {
   "cell_type": "code",
   "execution_count": 1,
   "metadata": {},
   "outputs": [
    {
     "name": "stdout",
     "output_type": "stream",
     "text": [
      "mkdir: cannot create directory ‘experiments’: File exists\n",
      "mkdir: cannot create directory ‘pretrained’: File exists\n"
     ]
    }
   ],
   "source": [
    "# if os.path.isdir(\"\")\n",
    "# !git clone https://github.com/KAIST-vilab/OC-CSE \"cse\"\n",
    "\n",
    "!mkdir experiments\n",
    "!mkdir pretrained\n",
    "\n",
    "from __future__ import division\n",
    "from __future__ import print_function\n",
    "\n",
    "import os\n",
    "import os.path as osp\n",
    "\n",
    "import argparse\n",
    "import logging\n",
    "\n",
    "from tqdm import tqdm\n",
    "import importlib\n",
    "\n",
    "import random\n",
    "import numpy as np\n",
    "import torch\n",
    "from torch.utils.data import DataLoader\n",
    "import tools.utils as utils\n",
    "\n",
    "assert torch.cuda.is_available()\n",
    "\n",
    "\n",
    "# dict_dir = \"/content/gdrive/moco.pth\"\n",
    "# state_dict = torch.load(dict_dir)\n",
    "# net.load_state_dict(state_dict=state_dict)\n"
   ]
  },
  {
   "cell_type": "code",
   "execution_count": 3,
   "metadata": {},
   "outputs": [
    {
     "name": "stdout",
     "output_type": "stream",
     "text": [
      "Start experiment xai!\n",
      "./experiments/xai already exsits.\n",
      "---------------------------------------------------- SETUP ----------------------------------------------------\n",
      "train_list : train_aug\n",
      "val_list : train\n",
      "num_workers : 8\n",
      "batch_size : 8\n",
      "resize : [256, 448]\n",
      "crop : 384\n",
      "lr : 0.01\n",
      "wt_dec : 0.0005\n",
      "max_epochs : 15\n",
      "name : xai\n",
      "model : model_xai\n",
      "seed : 4242\n",
      "vis : False\n",
      "dict : False\n",
      "crf : False\n",
      "print_freq : 10\n",
      "alphas : [6, 10, 24]\n",
      "---------------------------------------------------------------------------------------------------------------\n",
      "---------------------------------------------------------------------------------------------------------------\n",
      "------------------------------------------- start train loop --------------------------------------------\n",
      "---------------------------------------------------------------------------------------------------------------\n",
      "Epoch 000 train\n"
     ]
    },
    {
     "name": "stderr",
     "output_type": "stream",
     "text": [
      "  1%|          | 10/1322 [00:11<25:44,  1.18s/it]\n"
     ]
    },
    {
     "ename": "AttributeError",
     "evalue": "'model_WSSS' object has no attribute 'weight'",
     "output_type": "error",
     "traceback": [
      "\u001b[0;31m---------------------------------------------------------------------------\u001b[0m",
      "\u001b[0;31mAttributeError\u001b[0m                            Traceback (most recent call last)",
      "\u001b[1;32m/mnt/shyoon3/colab/main.ipynb 셀 2\u001b[0m in \u001b[0;36m<cell line: 76>\u001b[0;34m()\u001b[0m\n\u001b[1;32m     <a href='vscode-notebook-cell://ssh-remote%2B143.248.50.181/mnt/shyoon3/colab/main.ipynb#W0sdnNjb2RlLXJlbW90ZQ%3D%3D?line=83'>84</a>\u001b[0m     model\u001b[39m.\u001b[39mupdate(epo)            \n\u001b[1;32m     <a href='vscode-notebook-cell://ssh-remote%2B143.248.50.181/mnt/shyoon3/colab/main.ipynb#W0sdnNjb2RlLXJlbW90ZQ%3D%3D?line=84'>85</a>\u001b[0m     \u001b[39mif\u001b[39;00m \u001b[39miter\u001b[39m\u001b[39m%\u001b[39margs\u001b[39m.\u001b[39mprint_freq\u001b[39m==\u001b[39m\u001b[39m0\u001b[39m \u001b[39mand\u001b[39;00m \u001b[39miter\u001b[39m\u001b[39m!=\u001b[39m\u001b[39m0\u001b[39m:\n\u001b[0;32m---> <a href='vscode-notebook-cell://ssh-remote%2B143.248.50.181/mnt/shyoon3/colab/main.ipynb#W0sdnNjb2RlLXJlbW90ZQ%3D%3D?line=85'>86</a>\u001b[0m         model\u001b[39m.\u001b[39;49mprint_log(epo, \u001b[39miter\u001b[39;49m\u001b[39m/\u001b[39;49mtrain_num_batch, logger)\n\u001b[1;32m     <a href='vscode-notebook-cell://ssh-remote%2B143.248.50.181/mnt/shyoon3/colab/main.ipynb#W0sdnNjb2RlLXJlbW90ZQ%3D%3D?line=86'>87</a>\u001b[0m         logger\u001b[39m.\u001b[39minfo(\u001b[39m'\u001b[39m\u001b[39m-\u001b[39m\u001b[39m'\u001b[39m)           \n\u001b[1;32m     <a href='vscode-notebook-cell://ssh-remote%2B143.248.50.181/mnt/shyoon3/colab/main.ipynb#W0sdnNjb2RlLXJlbW90ZQ%3D%3D?line=87'>88</a>\u001b[0m model\u001b[39m.\u001b[39msave_model(epo, ckpt_path)\n",
      "File \u001b[0;32m/mnt/shyoon3/colab/models/model_xai.py:236\u001b[0m, in \u001b[0;36mmodel_WSSS.print_log\u001b[0;34m(self, epo, iter, logger)\u001b[0m\n\u001b[1;32m    234\u001b[0m         acc_str \u001b[39m+\u001b[39m\u001b[39m=\u001b[39m \u001b[39mself\u001b[39m\u001b[39m.\u001b[39macc_names[i] \u001b[39m+\u001b[39m \u001b[39m'\u001b[39m\u001b[39m : \u001b[39m\u001b[39m'\u001b[39m \u001b[39m+\u001b[39m \u001b[39mstr\u001b[39m(\u001b[39mround\u001b[39m(acc, \u001b[39m2\u001b[39m)) \u001b[39m+\u001b[39m \u001b[39m'\u001b[39m\u001b[39m, \u001b[39m\u001b[39m'\u001b[39m\n\u001b[1;32m    235\u001b[0m         \u001b[39mself\u001b[39m\u001b[39m.\u001b[39maccs[i] \u001b[39m=\u001b[39m acc\n\u001b[0;32m--> 236\u001b[0m lr_str \u001b[39m=\u001b[39m \u001b[39m'\u001b[39m\u001b[39mLearning rate er:cl = 1:\u001b[39m\u001b[39m'\u001b[39m \u001b[39m+\u001b[39m \u001b[39mstr\u001b[39m(\u001b[39mround\u001b[39m(\u001b[39mself\u001b[39;49m\u001b[39m.\u001b[39;49mweight, \u001b[39m5\u001b[39m))\n\u001b[1;32m    238\u001b[0m logger\u001b[39m.\u001b[39minfo(loss_str[:\u001b[39m-\u001b[39m\u001b[39m2\u001b[39m])\n\u001b[1;32m    239\u001b[0m logger\u001b[39m.\u001b[39minfo(acc_str[:\u001b[39m-\u001b[39m\u001b[39m2\u001b[39m])\n",
      "\u001b[0;31mAttributeError\u001b[0m: 'model_WSSS' object has no attribute 'weight'"
     ]
    }
   ],
   "source": [
    "categories = ['aeroplane', 'bicycle', 'bird', 'boat', 'bottle', \n",
    "            'bus', 'car', 'cat', 'chair', 'cow', \n",
    "            'diningtable', 'dog', 'horse', 'motorbike', 'person', \n",
    "            'pottedplant', 'sheep', 'sofa', 'train', 'tvmonitor']\n",
    "\n",
    "parser = argparse.ArgumentParser()\n",
    "\n",
    "# Dataset\n",
    "parser.add_argument(\"--train_list\", default=\"train_aug\", type=str)\n",
    "parser.add_argument(\"--val_list\", default=\"train\", type=str)\n",
    "parser.add_argument(\"--num_workers\", default=8, type=int)\n",
    "parser.add_argument(\"--batch_size\", default=8, type=int)\n",
    "parser.add_argument(\"--resize\", default=[256,448], nargs='+', type=int)\n",
    "parser.add_argument(\"--crop\", default=384, type=int)\n",
    "\n",
    "# Learning rate\n",
    "parser.add_argument(\"--lr\", default=0.01, type=float)\n",
    "parser.add_argument(\"--wt_dec\", default=5e-4, type=float)  \n",
    "parser.add_argument(\"--max_epochs\", default=15, type=int)\n",
    "parser.add_argument(\"--name\", default='xai', type=str)\n",
    "\n",
    "# Experiments\n",
    "parser.add_argument(\"--model\", default='model_xai', type=str) # model_cse\n",
    "parser.add_argument(\"--seed\", default=4242, type=int)\n",
    "\n",
    "\n",
    "# Output\n",
    "parser.add_argument(\"--vis\", action='store_true')\n",
    "parser.add_argument(\"--dict\", action='store_true')\n",
    "parser.add_argument(\"--crf\", action='store_true')\n",
    "parser.add_argument(\"--print_freq\", default=10, type=int)\n",
    "parser.add_argument(\"--alphas\", default=[6,10,24], nargs='+', type=int)    \n",
    "\n",
    "\n",
    "args = parser.parse_args(args=[])\n",
    "\n",
    "print('Start experiment ' + args.name + '!')\n",
    "exp_path, ckpt_path, train_path, val_path, infer_path, dict_path, crf_path, log_path = utils.make_path(args)\n",
    "\n",
    "if osp.isfile(log_path):\n",
    "        os.remove(log_path)\n",
    "\n",
    "logger = logging.getLogger(__name__)\n",
    "logger.setLevel(logging.INFO)\n",
    "\n",
    "console_handler = logging.StreamHandler()\n",
    "logger.addHandler(console_handler)\n",
    "\n",
    "file_handler = logging.FileHandler(log_path)\n",
    "logger.addHandler(file_handler)\n",
    "\n",
    "print('-'*52 + ' SETUP ' + '-'*52)\n",
    "for arg in vars(args):\n",
    "    print(arg + ' : ' + str(getattr(args, arg)))\n",
    "print('-'*111)\n",
    "\n",
    "train_dataset = utils.build_dataset(phase='train', path='voc12/'+args.train_list+'.txt', resize=args.resize, crop=args.crop)\n",
    "train_data_loader = DataLoader(train_dataset, batch_size=args.batch_size, shuffle=True, num_workers=0, pin_memory=True, drop_last=True)\n",
    "\n",
    "train_num_img = len(train_dataset)\n",
    "train_num_batch = len(train_data_loader)\n",
    "\n",
    "max_step = train_num_img // args.batch_size * args.max_epochs\n",
    "args.max_step = max_step\n",
    "\n",
    "model = getattr(importlib.import_module('models.'+args.model), 'model_WSSS')(args)\n",
    "model.train_setup()\n",
    "\n",
    "print('-'*111)\n",
    "print(('-'*43)+' start train loop '+('-'*44))\n",
    "max_epo = 0\n",
    "max_miou = 0\n",
    "max_thres = 0\n",
    "max_list = []\n",
    "\n",
    "for epo in range(args.max_epochs):   \n",
    "    \n",
    "    # Train\n",
    "    print('-'*111)\n",
    "    print('Epoch ' + str(epo).zfill(3) + ' train')\n",
    "    model.set_phase('train')\n",
    "    for iter, pack in enumerate(tqdm(train_data_loader)):\n",
    "        model.unpack(pack)\n",
    "        model.update(epo)            \n",
    "        if iter%args.print_freq==0 and iter!=0:\n",
    "            model.print_log(epo, iter/train_num_batch, logger)\n",
    "            logger.info('-')           \n",
    "    model.save_model(epo, ckpt_path)\n"
   ]
  },
  {
   "cell_type": "code",
   "execution_count": null,
   "metadata": {},
   "outputs": [],
   "source": []
  }
 ],
 "metadata": {
  "kernelspec": {
   "display_name": "Python 3.8.13 ('wsss_ksj')",
   "language": "python",
   "name": "python3"
  },
  "language_info": {
   "codemirror_mode": {
    "name": "ipython",
    "version": 3
   },
   "file_extension": ".py",
   "mimetype": "text/x-python",
   "name": "python",
   "nbconvert_exporter": "python",
   "pygments_lexer": "ipython3",
   "version": "3.8.13"
  },
  "orig_nbformat": 4,
  "vscode": {
   "interpreter": {
    "hash": "6f0c8f0cdee1354878dc5d710d6113d8ed82e602ef56b0871a36b2b2c0d87e6e"
   }
  }
 },
 "nbformat": 4,
 "nbformat_minor": 2
}
